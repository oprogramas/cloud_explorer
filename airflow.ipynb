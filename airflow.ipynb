{
  "nbformat": 4,
  "nbformat_minor": 0,
  "metadata": {
    "colab": {
      "provenance": []
    },
    "kernelspec": {
      "name": "python3",
      "display_name": "Python 3"
    },
    "language_info": {
      "name": "python"
    }
  },
  "cells": [
    {
      "cell_type": "code",
      "execution_count": null,
      "metadata": {
        "id": "H-0oDMSLjd4A"
      },
      "outputs": [],
      "source": [
        "#Instalar pip\n",
        "!sudo apt install pip"
      ]
    },
    {
      "cell_type": "code",
      "source": [
        "#Verificar versão do Python\n",
        "!python3 --version"
      ],
      "metadata": {
        "id": "2FWnuISOjlmc"
      },
      "execution_count": null,
      "outputs": []
    },
    {
      "cell_type": "code",
      "source": [
        "#nstalar venv para criar ambiente virtual\n",
        "#(usar a versão do python que verificou acima)\n",
        "!sudo apt install python3.10-venv"
      ],
      "metadata": {
        "id": "Vt20sy51jxlI"
      },
      "execution_count": null,
      "outputs": []
    },
    {
      "cell_type": "code",
      "source": [
        "#Criar diretório para ambiente virtual\n",
        "!mkdir airflow"
      ],
      "metadata": {
        "id": "6aTVlmWgj6kN"
      },
      "execution_count": null,
      "outputs": []
    },
    {
      "cell_type": "code",
      "source": [
        "#Criar ambiente virtual\n",
        "!python3 -m venv /home/seu_usuario/airflow"
      ],
      "metadata": {
        "id": "AaHK9rG8kI81"
      },
      "execution_count": null,
      "outputs": []
    },
    {
      "cell_type": "code",
      "source": [
        "#Ir para a pasta do ambiente\n",
        "!cd airflow"
      ],
      "metadata": {
        "id": "Hxuq2sHHkNH_"
      },
      "execution_count": null,
      "outputs": []
    },
    {
      "cell_type": "code",
      "source": [
        "#Ativar ambiente\n",
        "!source bin/activate"
      ],
      "metadata": {
        "id": "mh_BNvD1kS-S"
      },
      "execution_count": null,
      "outputs": []
    },
    {
      "cell_type": "code",
      "source": [
        "#Instalar airflow\n",
        "!pip install apache-airflow\n",
        "!pip install connexion[swagger-ui]\n",
        "!pip install Flask-Session==0.5.0\n",
        "!airflow db init"
      ],
      "metadata": {
        "id": "8JJnL8vtkYza"
      },
      "execution_count": null,
      "outputs": []
    },
    {
      "cell_type": "code",
      "source": [
        "#Criar usuário airflow\n",
        "!airflow users create \\\n",
        "    --username admin \\\n",
        "    --firstname admin \\\n",
        "    --lastname admin \\\n",
        "    --role Admin \\\n",
        "    --email admin@admin.com\n",
        "#(após isso você deve criar senha e digitá-la novamente para confirmar)"
      ],
      "metadata": {
        "id": "3mFRN-QBkgL0"
      },
      "execution_count": null,
      "outputs": []
    },
    {
      "cell_type": "code",
      "source": [
        "#Iniciar webserver\n",
        "!airflow webserver -p 8080"
      ],
      "metadata": {
        "id": "O3HkGRY2kqk8"
      },
      "execution_count": null,
      "outputs": []
    },
    {
      "cell_type": "code",
      "source": [
        "#Iniciar scheduler\n",
        "!airflow scheduler"
      ],
      "metadata": {
        "id": "Z-Xyr2X7kzuw"
      },
      "execution_count": null,
      "outputs": []
    }
  ]
}